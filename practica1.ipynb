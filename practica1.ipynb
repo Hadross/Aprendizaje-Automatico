{
  "nbformat": 4,
  "nbformat_minor": 0,
  "metadata": {
    "colab": {
      "provenance": [],
      "include_colab_link": true
    },
    "kernelspec": {
      "name": "python3",
      "display_name": "Python 3"
    },
    "language_info": {
      "name": "python"
    }
  },
  "cells": [
    {
      "cell_type": "markdown",
      "metadata": {
        "id": "view-in-github",
        "colab_type": "text"
      },
      "source": [
        "<a href=\"https://colab.research.google.com/github/Hadross/Aprendizaje-Automatico/blob/main/practica1.ipynb\" target=\"_parent\"><img src=\"https://colab.research.google.com/assets/colab-badge.svg\" alt=\"Open In Colab\"/></a>"
      ]
    },
    {
      "cell_type": "code",
      "execution_count": null,
      "metadata": {
        "id": "Bl6DYbeTBtFe"
      },
      "outputs": [],
      "source": [
        "# mount drive\n",
        "from google.colab import drive"
      ]
    },
    {
      "cell_type": "code",
      "source": [
        "from google.colab import drive\n",
        "drive.mount('/content/drive')"
      ],
      "metadata": {
        "colab": {
          "base_uri": "https://localhost:8080/"
        },
        "id": "FGHdDMVXCM51",
        "outputId": "9e4714f0-47f4-42f6-d2c7-e6d5f4be427d"
      },
      "execution_count": null,
      "outputs": [
        {
          "output_type": "stream",
          "name": "stdout",
          "text": [
            "Mounted at /content/drive\n"
          ]
        }
      ]
    },
    {
      "cell_type": "code",
      "source": [
        "# Tratamiento de datos\n",
        "# ==============================================================================\n",
        "import pandas as pd\n",
        "import numpy as np\n",
        "\n",
        "# Gráficos\n",
        "# ==============================================================================\n",
        "import matplotlib.pyplot as plt\n",
        "from matplotlib import style\n",
        "import seaborn as sns\n",
        "\n",
        "# Preprocesado y modelado\n",
        "# ==============================================================================\n",
        "from scipy.stats import pearsonr\n",
        "import scipy as sp\n",
        "from sklearn.model_selection import train_test_split\n",
        "from sklearn.metrics import mean_squared_error\n",
        "from sklearn.linear_model import LinearRegression\n",
        "from sklearn.linear_model import Ridge\n",
        "from sklearn.linear_model import Lasso\n",
        "from sklearn.linear_model import ElasticNet\n",
        "from sklearn.linear_model import RidgeCV\n",
        "from sklearn.linear_model import Ridge\n",
        "from sklearn.linear_model import LassoCV\n",
        "from sklearn.linear_model import ElasticNetCV\n",
        "from sklearn.preprocessing import StandardScaler\n",
        "from sklearn.pipeline import Pipeline\n",
        "from sklearn.pipeline import make_pipeline\n",
        "from sklearn import metrics\n",
        "from sklearn.preprocessing import MinMaxScaler\n",
        "from sklearn.preprocessing import OneHotEncoder\n",
        "from sklearn.compose import ColumnTransformer\n",
        "from sklearn.compose import make_column_selector as selector\n",
        "from sklearn.compose import make_column_transformer\n",
        "from sklearn.compose import TransformedTargetRegressor\n",
        "\n",
        "\n",
        "\n",
        "# Configuración matplotlib\n",
        "# ==============================================================================\n",
        "plt.rcParams['image.cmap'] = \"bwr\"\n",
        "plt.rcParams['savefig.bbox'] = \"tight\"\n",
        "style.use('ggplot') or plt.style.use('ggplot')\n",
        "\n",
        "\n",
        "# Configuración warnings\n",
        "# ==============================================================================\n",
        "import warnings\n",
        "warnings.filterwarnings('ignore')"
      ],
      "metadata": {
        "id": "8W2YIMIi7SyF"
      },
      "execution_count": null,
      "outputs": []
    },
    {
      "cell_type": "code",
      "source": [
        "path1 = \"/content/drive/MyDrive/APRENDIZAJE AUTOMATICO/wind_ava.csv\"\n",
        "path2 = \"/content/drive/MyDrive/Aprendizaje Automatico/PrimeraPractica/__MACOSX/wind_ava.csv/wind_ava.csv\""
      ],
      "metadata": {
        "id": "JlHKvc58C1K8"
      },
      "execution_count": null,
      "outputs": []
    },
    {
      "cell_type": "code",
      "source": [
        "tabla = pd.read_csv(filepath_or_buffer=path2)\n",
        "#archivo = open(pathArchivo,'r')\n",
        "#matriz = archivo.read()\n",
        "#columnas_terminadas_en_13 = [col for col in tabla.columns if tabla.endswith('.13')]\n",
        "\n",
        "df_ordenado = tabla.sort_values(by='datetime', ascending=True)\n",
        "print(tabla[\"energy\"])\n"
      ],
      "metadata": {
        "id": "xbS3NF1CDKRu",
        "colab": {
          "base_uri": "https://localhost:8080/"
        },
        "outputId": "680c3531-76d2-4fd8-ec2e-60876264eb8f"
      },
      "execution_count": null,
      "outputs": [
        {
          "output_type": "stream",
          "name": "stdout",
          "text": [
            "0        402.71\n",
            "1        696.80\n",
            "2       1591.15\n",
            "3       1338.62\n",
            "4        562.50\n",
            "         ...   \n",
            "4743    1280.13\n",
            "4744     855.00\n",
            "4745     117.06\n",
            "4746     516.96\n",
            "4747     867.07\n",
            "Name: energy, Length: 4748, dtype: float64\n"
          ]
        }
      ]
    }
  ]
}